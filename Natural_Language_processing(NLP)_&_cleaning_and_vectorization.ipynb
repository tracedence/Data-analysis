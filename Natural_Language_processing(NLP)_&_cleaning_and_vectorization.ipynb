{
  "nbformat": 4,
  "nbformat_minor": 0,
  "metadata": {
    "colab": {
      "name": "Natural Language processing(NLP) & cleaning and vectorization.ipynb",
      "provenance": [],
      "collapsed_sections": [],
      "authorship_tag": "ABX9TyOOlc34e1Z7MCkotOSAmenW",
      "include_colab_link": true
    },
    "kernelspec": {
      "name": "python3",
      "display_name": "Python 3"
    },
    "language_info": {
      "name": "python"
    }
  },
  "cells": [
    {
      "cell_type": "markdown",
      "metadata": {
        "id": "view-in-github",
        "colab_type": "text"
      },
      "source": [
        "<a href=\"https://colab.research.google.com/github/tracedence/Data-analysis/blob/main/Natural_Language_processing(NLP)_%26_cleaning_and_vectorization.ipynb\" target=\"_parent\"><img src=\"https://colab.research.google.com/assets/colab-badge.svg\" alt=\"Open In Colab\"/></a>"
      ]
    },
    {
      "cell_type": "code",
      "execution_count": 53,
      "metadata": {
        "colab": {
          "base_uri": "https://localhost:8080/"
        },
        "id": "rI38t6kqRYkG",
        "outputId": "4023db3a-0bd8-4a21-a552-334b0fdabf1c"
      },
      "outputs": [
        {
          "output_type": "stream",
          "name": "stderr",
          "text": [
            "[nltk_data] Downloading package punkt to /root/nltk_data...\n",
            "[nltk_data]   Package punkt is already up-to-date!\n",
            "[nltk_data] Downloading package stopwords to /root/nltk_data...\n",
            "[nltk_data]   Package stopwords is already up-to-date!\n",
            "[nltk_data] Downloading package wordnet to /root/nltk_data...\n",
            "[nltk_data]   Package wordnet is already up-to-date!\n",
            "[nltk_data] Downloading package omw-1.4 to /root/nltk_data...\n",
            "[nltk_data]   Package omw-1.4 is already up-to-date!\n"
          ]
        },
        {
          "output_type": "execute_result",
          "data": {
            "text/plain": [
              "True"
            ]
          },
          "metadata": {},
          "execution_count": 53
        }
      ],
      "source": [
        "import re\n",
        "from sklearn.feature_extraction.text import CountVectorizer\n",
        "import nltk\n",
        "from nltk.stem import WordNetLemmatizer\n",
        "from nltk.corpus import stopwords\n",
        "nltk.download('punkt')\n",
        "nltk.download('stopwords')\n",
        "nltk.download(\"wordnet\")\n",
        "nltk.download('omw-1.4')"
      ]
    },
    {
      "cell_type": "code",
      "source": [
        "paragraph = 'While a number of definitions of artificial intelligence (AI) have surfaced over the last few decades, John McCarthy offers the following definition in this 2004 paper (PDF, 106 KB) (link resides outside IBM), \" It is the science and engineering of making intelligent machines, especially intelligent computer programs. It is related to the similar task of using computers to understand human intelligence, but AI does not have to confine itself to methods that are biologically observable.'"
      ],
      "metadata": {
        "id": "rtCTMBm1TaR7"
      },
      "execution_count": 54,
      "outputs": []
    },
    {
      "cell_type": "code",
      "source": [
        "sentences = nltk.sent_tokenize(paragraph)\n",
        "sentences"
      ],
      "metadata": {
        "colab": {
          "base_uri": "https://localhost:8080/"
        },
        "id": "IbiIX0ArTx8F",
        "outputId": "f0d0496a-8cbd-46a9-e029-b9bd6e8b8b12"
      },
      "execution_count": 55,
      "outputs": [
        {
          "output_type": "execute_result",
          "data": {
            "text/plain": [
              "['While a number of definitions of artificial intelligence (AI) have surfaced over the last few decades, John McCarthy offers the following definition in this 2004 paper (PDF, 106 KB) (link resides outside IBM), \" It is the science and engineering of making intelligent machines, especially intelligent computer programs.',\n",
              " 'It is related to the similar task of using computers to understand human intelligence, but AI does not have to confine itself to methods that are biologically observable.']"
            ]
          },
          "metadata": {},
          "execution_count": 55
        }
      ]
    },
    {
      "cell_type": "code",
      "source": [
        "corpus = []\n",
        "lemmatizer = WordNetLemmatizer()\n",
        "for i in range(len(sentences)):\n",
        "  sentence = re.sub('[^a-zA-Z]', \" \", sentences[i])\n",
        "  sentence = sentence.lower()\n",
        "  words = nltk.word_tokenize(sentence)\n",
        "  print([word for word in words if word not in set(stopwords.words(\"english\"))])\n",
        "  print([lemmatizer.lemmatize(word) for word in words if word not in set(stopwords.words(\"english\"))])\n",
        "  words = [lemmatizer.lemmatize(word) for word in words if word not in set(stopwords.words(\"english\"))]\n",
        "  corpus.append(\" \".join(words))"
      ],
      "metadata": {
        "colab": {
          "base_uri": "https://localhost:8080/"
        },
        "id": "As-j0C-UT6-q",
        "outputId": "0f23cae7-4f57-488e-cef6-91f637c27abb"
      },
      "execution_count": 56,
      "outputs": [
        {
          "output_type": "stream",
          "name": "stdout",
          "text": [
            "['number', 'definitions', 'artificial', 'intelligence', 'ai', 'surfaced', 'last', 'decades', 'john', 'mccarthy', 'offers', 'following', 'definition', 'paper', 'pdf', 'kb', 'link', 'resides', 'outside', 'ibm', 'science', 'engineering', 'making', 'intelligent', 'machines', 'especially', 'intelligent', 'computer', 'programs']\n",
            "['number', 'definition', 'artificial', 'intelligence', 'ai', 'surfaced', 'last', 'decade', 'john', 'mccarthy', 'offer', 'following', 'definition', 'paper', 'pdf', 'kb', 'link', 'resides', 'outside', 'ibm', 'science', 'engineering', 'making', 'intelligent', 'machine', 'especially', 'intelligent', 'computer', 'program']\n",
            "['related', 'similar', 'task', 'using', 'computers', 'understand', 'human', 'intelligence', 'ai', 'confine', 'methods', 'biologically', 'observable']\n",
            "['related', 'similar', 'task', 'using', 'computer', 'understand', 'human', 'intelligence', 'ai', 'confine', 'method', 'biologically', 'observable']\n"
          ]
        }
      ]
    },
    {
      "cell_type": "code",
      "source": [
        "corpus"
      ],
      "metadata": {
        "colab": {
          "base_uri": "https://localhost:8080/"
        },
        "id": "fA3FR56XURDg",
        "outputId": "ffc6b953-a691-4d00-95b3-f47c477311b5"
      },
      "execution_count": 57,
      "outputs": [
        {
          "output_type": "execute_result",
          "data": {
            "text/plain": [
              "['number definition artificial intelligence ai surfaced last decade john mccarthy offer following definition paper pdf kb link resides outside ibm science engineering making intelligent machine especially intelligent computer program',\n",
              " 'related similar task using computer understand human intelligence ai confine method biologically observable']"
            ]
          },
          "metadata": {},
          "execution_count": 57
        }
      ]
    },
    {
      "cell_type": "code",
      "source": [
        "## bags of words\n",
        "cv = CountVectorizer()\n",
        "X = cv.fit_transform(corpus).toarray()\n",
        "X"
      ],
      "metadata": {
        "colab": {
          "base_uri": "https://localhost:8080/"
        },
        "id": "xbAKAPPMkHfc",
        "outputId": "00b1aef7-9a30-4629-935c-2ae7467846ef"
      },
      "execution_count": 58,
      "outputs": [
        {
          "output_type": "execute_result",
          "data": {
            "text/plain": [
              "array([[1, 1, 0, 1, 0, 1, 2, 1, 1, 1, 0, 1, 1, 2, 1, 1, 1, 1, 1, 1, 1, 0,\n",
              "        1, 0, 1, 1, 1, 1, 1, 0, 1, 1, 0, 1, 0, 0, 0],\n",
              "       [1, 0, 1, 1, 1, 0, 0, 0, 0, 0, 1, 0, 1, 0, 0, 0, 0, 0, 0, 0, 0, 1,\n",
              "        0, 1, 0, 0, 0, 0, 0, 1, 0, 0, 1, 0, 1, 1, 1]])"
            ]
          },
          "metadata": {},
          "execution_count": 58
        }
      ]
    },
    {
      "cell_type": "code",
      "source": [
        "#TF-IDF\n",
        "from sklearn.feature_extraction.text import TfidfVectorizer\n",
        "tf_idf = TfidfVectorizer()\n",
        "X = tf_idf.fit_transform(corpus).toarray()\n",
        "X"
      ],
      "metadata": {
        "colab": {
          "base_uri": "https://localhost:8080/"
        },
        "id": "vf4KGwtVqzL4",
        "outputId": "dbbadcae-3ad0-4141-c2e9-0b135d13604c"
      },
      "execution_count": 59,
      "outputs": [
        {
          "output_type": "execute_result",
          "data": {
            "text/plain": [
              "array([[0.12673471, 0.17812121, 0.        , 0.12673471, 0.        ,\n",
              "        0.17812121, 0.35624242, 0.17812121, 0.17812121, 0.17812121,\n",
              "        0.        , 0.17812121, 0.12673471, 0.35624242, 0.17812121,\n",
              "        0.17812121, 0.17812121, 0.17812121, 0.17812121, 0.17812121,\n",
              "        0.17812121, 0.        , 0.17812121, 0.        , 0.17812121,\n",
              "        0.17812121, 0.17812121, 0.17812121, 0.17812121, 0.        ,\n",
              "        0.17812121, 0.17812121, 0.        , 0.17812121, 0.        ,\n",
              "        0.        , 0.        ],\n",
              "       [0.20964166, 0.        , 0.29464404, 0.20964166, 0.29464404,\n",
              "        0.        , 0.        , 0.        , 0.        , 0.        ,\n",
              "        0.29464404, 0.        , 0.20964166, 0.        , 0.        ,\n",
              "        0.        , 0.        , 0.        , 0.        , 0.        ,\n",
              "        0.        , 0.29464404, 0.        , 0.29464404, 0.        ,\n",
              "        0.        , 0.        , 0.        , 0.        , 0.29464404,\n",
              "        0.        , 0.        , 0.29464404, 0.        , 0.29464404,\n",
              "        0.29464404, 0.29464404]])"
            ]
          },
          "metadata": {},
          "execution_count": 59
        }
      ]
    },
    {
      "cell_type": "code",
      "source": [
        ""
      ],
      "metadata": {
        "id": "9T7jitfIxUP9"
      },
      "execution_count": 59,
      "outputs": []
    }
  ]
}